{
 "cells": [
  {
   "cell_type": "code",
   "execution_count": 3,
   "metadata": {},
   "outputs": [],
   "source": [
    "import cv2\n",
    "horizontal_structure = cv2.getStructuringElement(cv2.MORPH_RECT, (1, 1))"
   ]
  },
  {
   "cell_type": "code",
   "execution_count": 4,
   "metadata": {},
   "outputs": [
    {
     "data": {
      "text/plain": [
       "{0, 1, 2, 3, 4, 5, 6, 7, 8, 9}"
      ]
     },
     "execution_count": 4,
     "metadata": {},
     "output_type": "execute_result"
    }
   ],
   "source": [
    "list_files = set()\n",
    "for i in range(10):\n",
    "    list_files.add(i)\n",
    "list_files"
   ]
  },
  {
   "cell_type": "code",
   "execution_count": 13,
   "metadata": {},
   "outputs": [
    {
     "name": "stdout",
     "output_type": "stream",
     "text": [
      "['apple', 'banana', 'cherry']\n"
     ]
    }
   ],
   "source": [
    "thisset = {\"apple\", \"banana\", \"cherry\"}\n",
    "print(sorted(thisset))"
   ]
  },
  {
   "cell_type": "code",
   "execution_count": 1,
   "metadata": {},
   "outputs": [
    {
     "data": {
      "text/plain": [
       "[([1, 2, 3, 4], 'hw'),\n",
       " ([1, 2, 3, 4], 'hw'),\n",
       " ([1, 2, 3, 4], 'hw'),\n",
       " ([1, 2, 3, 4], 'hw'),\n",
       " ([1, 2, 3, 4], 'hw'),\n",
       " ([1, 2, 3, 4], 'hw')]"
      ]
     },
     "execution_count": 1,
     "metadata": {},
     "output_type": "execute_result"
    }
   ],
   "source": [
    "list_xywh_direction = [([1,2,3,4], 'hw'), ([1,2,3,4], 'hw'), ([1,2,3,4], 'hw'), ([1,2,3,4], 'hw'), ([1,2,3,4], 'hw'), ([1,2,3,4], 'hw')]\n",
    "list_xywh_direction"
   ]
  },
  {
   "cell_type": "code",
   "execution_count": 4,
   "metadata": {},
   "outputs": [],
   "source": [
    "with open('a.txt', 'w') as f:\n",
    "    f.writelines(str(list_xywh_direction))"
   ]
  },
  {
   "cell_type": "code",
   "execution_count": 2,
   "metadata": {},
   "outputs": [
    {
     "data": {
      "text/plain": [
       "[[1, 2, 3, 4],\n",
       " [1, 2, 3, 4],\n",
       " [1, 2, 3, 4],\n",
       " [1, 2, 3, 4],\n",
       " [5, 6, 7, 8],\n",
       " [5, 6, 7, 8],\n",
       " [5, 6, 7, 8],\n",
       " [5, 6, 7, 8],\n",
       " [5, 6, 7, 8],\n",
       " [5, 6, 7, 8]]"
      ]
     },
     "execution_count": 2,
     "metadata": {},
     "output_type": "execute_result"
    }
   ],
   "source": [
    "list_1 = [[1,2,3,4], [1,2,3,4], [1,2,3,4], [1,2,3,4]]\n",
    "list_2 = [[5,6,7,8], [5,6,7,8], [5,6,7,8], [5,6,7,8], [5,6,7,8], [5,6,7,8]]\n",
    "list_1 + list_2\n"
   ]
  },
  {
   "cell_type": "code",
   "execution_count": 6,
   "metadata": {},
   "outputs": [
    {
     "data": {
      "text/plain": [
       "\"[([1069, 124, 421, 51], 'MACHINE_PRINTED_TEXT'), ([1561, 189, 146, 45], 'MACHINE_PRINTED_TEXT'), ([1782, 189, 50, 48], 'MACHINE_PRINTED_TEXT'), ([1903, 189, 53, 48], 'MACHINE_PRINTED_TEXT'), ([2017, 189, 50, 45], 'MACHINE_PRINTED_TEXT'), ([2087, 189, 271, 45], 'MACHINE_PRINTED_TEXT')]\""
      ]
     },
     "execution_count": 6,
     "metadata": {},
     "output_type": "execute_result"
    }
   ],
   "source": [
    "list_1 = str([([1069, 124, 421, 51], 'MACHINE_PRINTED_TEXT'), ([1561, 189, 146, 45], 'MACHINE_PRINTED_TEXT'), ([1782, 189, 50, 48], 'MACHINE_PRINTED_TEXT'), ([1903, 189, 53, 48], 'MACHINE_PRINTED_TEXT'), ([2017, 189, 50, 45], 'MACHINE_PRINTED_TEXT'), ([2087, 189, 271, 45], 'MACHINE_PRINTED_TEXT')])\n",
    "list_1"
   ]
  },
  {
   "cell_type": "code",
   "execution_count": 8,
   "metadata": {},
   "outputs": [
    {
     "data": {
      "text/plain": [
       "[([1069, 124, 421, 51], 'MACHINE_PRINTED_TEXT'),\n",
       " ([1561, 189, 146, 45], 'MACHINE_PRINTED_TEXT'),\n",
       " ([1782, 189, 50, 48], 'MACHINE_PRINTED_TEXT'),\n",
       " ([1903, 189, 53, 48], 'MACHINE_PRINTED_TEXT'),\n",
       " ([2017, 189, 50, 45], 'MACHINE_PRINTED_TEXT'),\n",
       " ([2087, 189, 271, 45], 'MACHINE_PRINTED_TEXT')]"
      ]
     },
     "execution_count": 8,
     "metadata": {},
     "output_type": "execute_result"
    }
   ],
   "source": [
    "import ast\n",
    "ast.literal_eval(list_1)\n"
   ]
  },
  {
   "cell_type": "code",
   "execution_count": 2,
   "metadata": {},
   "outputs": [
    {
     "name": "stdout",
     "output_type": "stream",
     "text": [
      "hehe\n",
      "hehe\n",
      "hehe\n",
      "hehe\n",
      "hoho\n",
      "hehe\n",
      "hehe\n",
      "hehe\n",
      "hoho\n",
      "hehe\n",
      "hehe\n",
      "hoho\n",
      "hehe\n",
      "hoho\n",
      "hoho\n"
     ]
    }
   ],
   "source": [
    "for i in range(5):\n",
    "    for j in range(i+1,5):\n",
    "        if False:\n",
    "            continue\n",
    "        if True:\n",
    "            print('hehe')\n",
    "    else:\n",
    "        print('hoho')"
   ]
  },
  {
   "cell_type": "code",
   "execution_count": null,
   "metadata": {},
   "outputs": [],
   "source": []
  }
 ],
 "metadata": {
  "kernelspec": {
   "display_name": "Python 3",
   "language": "python",
   "name": "python3"
  },
  "language_info": {
   "codemirror_mode": {
    "name": "ipython",
    "version": 3
   },
   "file_extension": ".py",
   "mimetype": "text/x-python",
   "name": "python",
   "nbconvert_exporter": "python",
   "pygments_lexer": "ipython3",
   "version": "3.7.6"
  }
 },
 "nbformat": 4,
 "nbformat_minor": 4
}
